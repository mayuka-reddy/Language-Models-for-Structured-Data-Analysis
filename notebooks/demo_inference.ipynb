{
 "cells": [
  {
   "cell_type": "markdown",
   "metadata": {},
   "source": [
    "# NL-to-SQL Inference Demo\n",
    "\n",
    "This notebook demonstrates how to use the NL-to-SQL inference engine to convert natural language questions into SQL queries."
   ]
  },
  {
   "cell_type": "code",
   "execution_count": null,
   "metadata": {},
   "outputs": [],
   "source": [
    "# Setup\n",
    "import sys\n",
    "import os\n",
    "sys.path.append('..')\n",
    "\n",
    "from app.inference import NL2SQLInference\n",
    "from app.sql_executor import SQLExecutor\n",
    "import pandas as pd"
   ]
  },
  {
   "cell_type": "markdown",
   "metadata": {},
   "source": [
    "## Initialize Components"
   ]
  },
  {
   "cell_type": "code",
   "execution_count": null,
   "metadata": {},
   "outputs": [],
   "source": [
    "# Initialize inference engine\n",
    "print(\"Loading NL-to-SQL model...\")\n",
    "inference = NL2SQLInference()\n",
    "print(\"✅ Model loaded successfully\")\n",
    "\n",
    "# Initialize SQL executor\n",
    "print(\"Setting up database...\")\n",
    "executor = SQLExecutor()\n",
    "print(\"✅ Database ready\")"
   ]
  },
  {
   "cell_type": "markdown",
   "metadata": {},
   "source": [
    "## Explore Database Schema"
   ]
  },
  {
   "cell_type": "code",
   "execution_count": null,
   "metadata": {},
   "outputs": [],
   "source": [
    "# Get schema information\n",
    "schema_info = executor.get_schema_info()\n",
    "\n",
    "print(\"Database Tables:\")\n",
    "for table_name, table_info in schema_info['tables'].items():\n",
    "    columns = [col['name'] for col in table_info['columns']]\n",
    "    print(f\"  {table_name}: {', '.join(columns)}\")"
   ]
  },
  {
   "cell_type": "markdown",
   "metadata": {},
   "source": [
    "## Basic NL-to-SQL Generation"
   ]
  },
  {
   "cell_type": "code",
   "execution_count": null,
   "metadata": {},
   "outputs": [],
   "source": [
    "# Test basic question\n",
    "question = \"Show me all customers\"\n",
    "print(f\"Question: {question}\")\n",
    "\n",
    "# Generate SQL\n",
    "result = inference.generate_sql(question)\n",
    "print(f\"Generated SQL: {result['sql']}\")\n",
    "print(f\"Confidence: {result['confidence']:.2f}\")"
   ]
  },
  {
   "cell_type": "markdown",
   "metadata": {},
   "source": [
    "## SQL Generation with Schema Context"
   ]
  },
  {
   "cell_type": "code",
   "execution_count": null,
   "metadata": {},
   "outputs": [],
   "source": [
    "# Format schema for model\n",
    "schema_str = \"Tables: \"\n",
    "schema_parts = []\n",
    "for table_name, table_info in schema_info['tables'].items():\n",
    "    columns = [col['name'] for col in table_info['columns']]\n",
    "    schema_parts.append(f\"{table_name}({', '.join(columns)})\")\n",
    "schema_str += \", \".join(schema_parts)\n",
    "\n",
    "print(f\"Schema context: {schema_str[:200]}...\")"
   ]
  },
  {
   "cell_type": "code",
   "execution_count": null,
   "metadata": {},
   "outputs": [],
   "source": [
    "# Test with schema context\n",
    "question = \"What are the total sales by region?\"\n",
    "print(f\"Question: {question}\")\n",
    "\n",
    "result = inference.generate_sql(question, schema_str)\n",
    "print(f\"Generated SQL: {result['sql']}\")\n",
    "print(f\"Confidence: {result['confidence']:.2f}\")"
   ]
  },
  {
   "cell_type": "markdown",
   "metadata": {},
   "source": [
    "## End-to-End Pipeline"
   ]
  },
  {
   "cell_type": "code",
   "execution_count": null,
   "metadata": {},
   "outputs": [],
   "source": [
    "def process_question(question):\n",
    "    \"\"\"Process a question through the complete pipeline.\"\"\"\n",
    "    print(f\"\\n🔍 Question: {question}\")\n",
    "    print(\"-\" * 50)\n",
    "    \n",
    "    # Generate SQL\n",
    "    result = inference.generate_sql(question, schema_str)\n",
    "    sql = result['sql']\n",
    "    confidence = result['confidence']\n",
    "    \n",
    "    print(f\"📝 Generated SQL: {sql}\")\n",
    "    print(f\"🎯 Confidence: {confidence:.2f}\")\n",
    "    \n",
    "    # Execute SQL\n",
    "    exec_result = executor.execute_query(sql)\n",
    "    \n",
    "    if exec_result['success']:\n",
    "        print(f\"✅ Execution successful: {exec_result['row_count']} rows returned\")\n",
    "        \n",
    "        # Show first few results\n",
    "        if exec_result['data']:\n",
    "            df = pd.DataFrame(exec_result['data'])\n",
    "            print(\"\\n📊 Results:\")\n",
    "            print(df.head())\n",
    "        else:\n",
    "            print(\"No data returned\")\n",
    "    else:\n",
    "        print(f\"❌ Execution failed: {exec_result['error']}\")\n",
    "    \n",
    "    return result, exec_result"
   ]
  },
  {
   "cell_type": "code",
   "execution_count": null,
   "metadata": {},
   "outputs": [],
   "source": [
    "# Test various questions\n",
    "test_questions = [\n",
    "    \"Show me all customers\",\n",
    "    \"What are the total sales?\",\n",
    "    \"Find the top 5 products by price\",\n",
    "    \"How many customers are in each region?\",\n",
    "    \"What is the average order value?\"\n",
    "]\n",
    "\n",
    "results = []\n",
    "for question in test_questions:\n",
    "    result, exec_result = process_question(question)\n",
    "    results.append({\n",
    "        'question': question,\n",
    "        'sql': result['sql'],\n",
    "        'confidence': result['confidence'],\n",
    "        'success': exec_result['success'],\n",
    "        'row_count': exec_result.get('row_count', 0)\n",
    "    })"
   ]
  },
  {
   "cell_type": "markdown",
   "metadata": {},
   "source": [
    "## Results Summary"
   ]
  },
  {
   "cell_type": "code",
   "execution_count": null,
   "metadata": {},
   "outputs": [],
   "source": [
    "# Create summary DataFrame\n",
    "summary_df = pd.DataFrame(results)\n",
    "print(\"\\n📈 Summary of Results:\")\n",
    "print(summary_df)\n",
    "\n",
    "# Calculate success rate\n",
    "success_rate = summary_df['success'].mean()\n",
    "avg_confidence = summary_df['confidence'].mean()\n",
    "\n",
    "print(f\"\\n📊 Overall Statistics:\")\n",
    "print(f\"Success Rate: {success_rate:.1%}\")\n",
    "print(f\"Average Confidence: {avg_confidence:.2f}\")\n",
    "print(f\"Total Questions: {len(results)}\")"
   ]
  },
  {
   "cell_type": "markdown",
   "metadata": {},
   "source": [
    "## Batch Processing"
   ]
  },
  {
   "cell_type": "code",
   "execution_count": null,
   "metadata": {},
   "outputs": [],
   "source": [
    "# Test batch generation\n",
    "batch_questions = [\n",
    "    \"Show customers from North region\",\n",
    "    \"List all products in Electronics category\",\n",
    "    \"Count total orders\"\n",
    "]\n",
    "\n",
    "print(\"🔄 Batch Processing:\")\n",
    "batch_results = inference.batch_generate(batch_questions, schema_str)\n",
    "\n",
    "for i, (question, result) in enumerate(zip(batch_questions, batch_results)):\n",
    "    print(f\"\\n{i+1}. {question}\")\n",
    "    print(f\"   SQL: {result['sql']}\")\n",
    "    print(f\"   Confidence: {result['confidence']:.2f}\")"
   ]
  },
  {
   "cell_type": "markdown",
   "metadata": {},
   "source": [
    "## Model Configuration"
   ]
  },
  {
   "cell_type": "code",
   "execution_count": null,
   "metadata": {},
   "outputs": [],
   "source": [
    "# Show current model configuration\n",
    "print(\"🔧 Current Model Configuration:\")\n",
    "for key, value in inference.config.items():\n",
    "    print(f\"  {key}: {value}\")\n",
    "\n",
    "print(f\"\\n🖥️  Device: {inference.device}\")\n",
    "print(f\"📦 Model: {inference.config.get('name', 'Unknown')}\")"
   ]
  },
  {
   "cell_type": "markdown",
   "metadata": {},
   "source": [
    "## Cleanup"
   ]
  },
  {
   "cell_type": "code",
   "execution_count": null,
   "metadata": {},
   "outputs": [],
   "source": [
    "# Close database connection\n",
    "executor.close()\n",
    "print(\"✅ Demo completed successfully!\")"
   ]
  }
 ],
 "metadata": {
  "kernelspec": {
   "display_name": "Python 3",
   "language": "python",
   "name": "python3"
  },
  "language_info": {
   "codemirror_mode": {
    "name": "ipython",
    "version": 3
   },
   "file_extension": ".py",
   "mimetype": "text/x-python",
   "name": "python",
   "nbconvert_exporter": "python",
   "pygments_lexer": "ipython3",
   "version": "3.8.0"
  }
 },
 "nbformat": 4,
 "nbformat_minor": 4
}